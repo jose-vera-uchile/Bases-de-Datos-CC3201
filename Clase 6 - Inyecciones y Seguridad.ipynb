{
 "cells": [
  {
   "cell_type": "markdown",
   "metadata": {},
   "source": [
    "# Configuracion y conexion al servidor"
   ]
  },
  {
   "cell_type": "markdown",
   "metadata": {},
   "source": [
    "## ¡No modificar la siguiente celda de codigo!\n",
    "\n",
    "La siguiente celda es la que se encarga de conectar el notebook con la base de datos del curso de forma que se puedan hacer consultas de SQL en celdas de Python. Si se modifica, probablemente no funcionen los ejemplos y ejercicios de este notebook."
   ]
  },
  {
   "cell_type": "code",
   "execution_count": null,
   "metadata": {},
   "outputs": [
    {
     "name": "stdout",
     "output_type": "stream",
     "text": [
      "The sql extension is already loaded. To reload it, use:\n",
      "  %reload_ext sql\n"
     ]
    },
    {
     "data": {
      "text/plain": [
       "'Connected: cc3201@td3201'"
      ]
     },
     "metadata": {},
     "output_type": "display_data"
    }
   ],
   "source": [
    "%load_ext sql\n",
    "connection_string = f\"postgresql://cc3201:j'<3_cc3201@cc3201.dcc.uchile.cl:5440/td3201\"\n",
    "%sql $connection_string"
   ]
  },
  {
   "cell_type": "markdown",
   "metadata": {},
   "source": [
    "---"
   ]
  },
  {
   "cell_type": "markdown",
   "metadata": {},
   "source": [
    "# Acceso programático (JAVA): Java Database Connectivity (JDBC)"
   ]
  },
  {
   "cell_type": "markdown",
   "metadata": {},
   "source": [
    "Para este laboratorio, los ejemplos estarán escritos para hacer las consultas usando JDBC. De esta forma se vera una aplicacion directa que despues podran usar en el proyecto final del curso. Para esto veamos como funcionan estas consultas:"
   ]
  },
  {
   "cell_type": "markdown",
   "metadata": {},
   "source": [
    "## Para hacer una consulta (SELECT):"
   ]
  },
  {
   "cell_type": "markdown",
   "metadata": {},
   "source": [
    "Si queremos usar una consulta, debemos guardar la consulta como un String y luego ejecutarla de la siguien manera:"
   ]
  },
  {
   "cell_type": "markdown",
   "metadata": {},
   "source": [
    "String consulta = \"SELECT ...\";\n",
    "\n",
    "ResultSet rs = statement.executeQuery(consulta);"
   ]
  },
  {
   "cell_type": "markdown",
   "metadata": {},
   "source": [
    "## Para hacer actualizaciones (INSERT, UPDATE, ...):"
   ]
  },
  {
   "cell_type": "markdown",
   "metadata": {},
   "source": [
    "En el caso de que se quiera hacer una actualización, el procedimineto es similar, solo que se ejecuta con un comando distinto:"
   ]
  },
  {
   "cell_type": "markdown",
   "metadata": {},
   "source": [
    "String consulta = \"UPDATE ...\";\n",
    "\n",
    "int tuplasAfectadas = statement.executeUpdate(actualizacion);"
   ]
  },
  {
   "cell_type": "markdown",
   "metadata": {},
   "source": [
    "# Inyecciones y Sentencias Precompiladas"
   ]
  },
  {
   "cell_type": "markdown",
   "metadata": {},
   "source": [
    "## ¿Que es una inyección SQL?"
   ]
  },
  {
   "cell_type": "markdown",
   "metadata": {},
   "source": [
    "La inyección SQL es un metodo de infiltracion de codigo intruso a los inputs a usar en operaciones sobre una base de datos. Por ejemplo, veamos el caso que tuvieramos el siguiente codigo:\n"
   ]
  },
  {
   "cell_type": "markdown",
   "metadata": {},
   "source": [
    "System.out.println(\"Ingrese un apellido paterno: \");  \n",
    "String input = br.readLine().trim();  \n",
    "if(input.equals(KILL)) break;\n",
    "  \n",
    "  \n",
    "\n",
    "//crear un statement en blanco  \n",
    "st = conn.createStatement();\n",
    "\n",
    "//crear la consulta  \n",
    "String consulta =   \n",
    "            \"SELECT * FROM uchile.transparencia \"  \n",
    "            + \"WHERE apellido_p='\"+ input +\"' \"  \n",
    "            + \"ORDER BY total DESC LIMIT 10\";  \n",
    "ResultSet rs = st.executeQuery(consulta);  \n",
    "\n",
    "//... AQUI PODRIA PONER UNA IMAGEN MEJOR"
   ]
  },
  {
   "cell_type": "markdown",
   "metadata": {},
   "source": [
    "El problema en este caso seria que no se ha verificado el input. \n",
    "\n",
    "Por ejemplo si el input fuera \" Robert'); DROP TABLE Students; -- \", esto haria que todo lo que esta despues del -- se convierta en comentario y que se ejecute un DROP TABLE que puede llevar a la perdida de mucha informacion importante."
   ]
  },
  {
   "cell_type": "markdown",
   "metadata": {},
   "source": [
    "## Como defendernos de Inyecciones: Sentencias precompiladas"
   ]
  },
  {
   "cell_type": "markdown",
   "metadata": {},
   "source": [
    "Una de las formas mas eficientes para resolver este problema de seguridad es usar sentencias precompiladas. Estas funcionan de forma que se manda la consulta al sistema de bases de datos y despues se reemplazarán los parámetros con la entrada del usuario. VEamos como se hace esto con JDBC."
   ]
  },
  {
   "cell_type": "markdown",
   "metadata": {},
   "source": [
    "String consulta = \"SELECT nota FROM Students WHERE name = '?';  \n",
    "// donde ? es un para metro que reemplazaremos con la entrada del usuario  \n",
    "PreparedStatement ps = conn.prepareStatement(consulta);  \n",
    "ps.setString(1, input);  \n",
    "ResultSet rs = ps.executeQuery();\n",
    "\n",
    "// AQUI TAMBIEN PODRIA SER UNA IMAGEN"
   ]
  },
  {
   "cell_type": "markdown",
   "metadata": {},
   "source": [
    "Al usar conn.preparedStatement() se precompila la sentencia sin ninguna entrada. \n",
    "\n",
    "Luego son ps.setString el sistema de bases de datos reemplaza el parametro en el plan. Aqui la diferencia principal radica en que el parametro se esta incluyendo en la sentencia pre-compilada, la cual es un plan en memoria y no un String que se luego se ejecutara como consulta. \n",
    "\n",
    "Por ultimo, cuando ya hemos precompilado la consulta y agregado la entrada, se usa ps.executeQuery() para decirle al sistema de bases de datos que ejecute el plan."
   ]
  },
  {
   "cell_type": "markdown",
   "metadata": {},
   "source": [
    "El PreparedStatement se puede reutilizar cuantas vexes quieras, e incluso puede llegar a ser mas eficiente pues la sentencia se compila solo una vez. Asimismo las sentencias precompiladas pueden tener varios parametros de entrada con varios tipos. Ej:"
   ]
  },
  {
   "cell_type": "markdown",
   "metadata": {},
   "source": [
    "String consulta = \"SELECT nota FROM Students WHERE name=? AND year=?\";\n",
    "\n",
    "PreparedStatement ps = conn.prepareStatement(consulta);   \n",
    "for(String[] input: inputs){  \n",
    "    ps.setStrings(1, input[1]);  \n",
    "    ps.setInt(2, )  \n",
    "}\n",
    "// insertar imagen\n"
   ]
  },
  {
   "cell_type": "markdown",
   "metadata": {},
   "source": [
    "## Seguridad en interfaces HTML"
   ]
  },
  {
   "cell_type": "markdown",
   "metadata": {},
   "source": [
    "En HTML se podria llegar a pensar que usando un select con opciones limitadas se podria lograr evitar inyecciones, pues al no tener un campo donde escribir no pueden ejecutar un ataque. Sin embargo, dentro de una pagina web se puede editar el codigo fuente para cambiar las opciones de la interfaz. O incluso se puede enviar una solicitud HTTP sin usar la interfaz. Por lo tanto sigue siendo fundamental que en una aplicacion web se usen metodos de seguridad como sentencias precompiladas.\n",
    "\n",
    "\n",
    "\n",
    "//AQUI FALTAN IMAGENES TAMBIEN"
   ]
  },
  {
   "cell_type": "markdown",
   "metadata": {},
   "source": [
    "#### Hay que insertar imagenes para explicarlo mejor"
   ]
  }
 ],
 "metadata": {
  "language_info": {
   "name": "python"
  },
  "orig_nbformat": 4
 },
 "nbformat": 4,
 "nbformat_minor": 2
}
