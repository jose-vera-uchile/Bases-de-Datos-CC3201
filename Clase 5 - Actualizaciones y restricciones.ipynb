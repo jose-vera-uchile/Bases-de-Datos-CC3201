{
 "cells": [
  {
   "cell_type": "markdown",
   "metadata": {},
   "source": [
    "# Configuracion y conexion al servidor"
   ]
  },
  {
   "cell_type": "markdown",
   "metadata": {},
   "source": [
    "## ¡No modificar la siguiente celda de codigo!\n",
    "\n",
    "La siguiente celda es la que se encarga de conectar el notebook con la base de datos del curso de forma que se puedan hacer consultas de SQL en celdas de Python. Si se modifica, probablemente no funcionen los ejemplos y ejercicios de este notebook."
   ]
  },
  {
   "cell_type": "code",
   "execution_count": 11,
   "metadata": {},
   "outputs": [
    {
     "name": "stdout",
     "output_type": "stream",
     "text": [
      "The sql extension is already loaded. To reload it, use:\n",
      "  %reload_ext sql\n"
     ]
    },
    {
     "data": {
      "text/plain": [
       "'Connected: cc3201@td3201'"
      ]
     },
     "execution_count": 11,
     "metadata": {},
     "output_type": "execute_result"
    }
   ],
   "source": [
    "%load_ext sql\n",
    "connection_string = f\"postgresql://cc3201:j'<3_cc3201@cc3201.dcc.uchile.cl:5440/td3201\"\n",
    "%sql $connection_string"
   ]
  },
  {
   "cell_type": "markdown",
   "metadata": {},
   "source": [
    "---"
   ]
  },
  {
   "cell_type": "markdown",
   "metadata": {},
   "source": [
    "# SQL: Gestionar, crear y actualizar tablas"
   ]
  },
  {
   "cell_type": "markdown",
   "metadata": {},
   "source": [
    "Para poder trabajar con un esquema en SQL es necesario saber crear uno desde cero. A continuacion veremos como crear y definir todo lo que necesitamos para hacer un esquema en SQL. En este notebook crearemos una replica del esquema del sistema solar con el que hemos estado trabajando hasta ahora.\n",
    "\n",
    "Para empezar, ejecuta el siguiente cuadro de codigo:"
   ]
  },
  {
   "cell_type": "code",
   "execution_count": null,
   "metadata": {},
   "outputs": [],
   "source": [
    "%%sql\n",
    "DROP SCHEMA SistemaSolar2 CASCADE;"
   ]
  },
  {
   "cell_type": "markdown",
   "metadata": {},
   "source": [
    "Nota: al terminar de usar este laboratorio, se recomienda correr de nuevo el bloque de codigo anterior."
   ]
  },
  {
   "cell_type": "markdown",
   "metadata": {},
   "source": [
    "## Esquemas"
   ]
  },
  {
   "cell_type": "markdown",
   "metadata": {},
   "source": [
    "Lo primero que se debe hacer es crear el esquema en la base de datos. Un esquema como ya deben saberlo, es una agrupacion de tablas que suelen estar relacionadas entre si. Para crearlos se usa la siguiente sintaxis:"
   ]
  },
  {
   "cell_type": "code",
   "execution_count": null,
   "metadata": {},
   "outputs": [],
   "source": [
    "%%sql\n",
    "CREATE SCHEMA SistemaSolar2;"
   ]
  },
  {
   "cell_type": "markdown",
   "metadata": {},
   "source": [
    "Ya con esto esta creado el nuevo esquema, que llamaremos SistemaSolar2."
   ]
  },
  {
   "cell_type": "markdown",
   "metadata": {},
   "source": [
    "### Privilegios de Esquemas"
   ]
  },
  {
   "cell_type": "markdown",
   "metadata": {},
   "source": [
    "Para poder modificar un esquema, debes tener los permisos (tambien llamados privilegios). Existen distintos niveles de privilegios en un esquema, pueden ser solo de lectura, pasando por lectura y escritura, hasta todos los privilegios que puedan haber para un esquema. Si desea saber mas sobre esto puede leer la documentacion de Postgres en el siguiente link (en ingles): https://www.postgresql.org/docs/13/ddl-priv.html \n",
    "\n",
    "La sintaxis para conceder privilegios es la siguiente:\n",
    "\n",
    "```sql\n",
    "GRANT [Nivel de Privilegios] ON SCHEMA [Esquema] TO [Usuario];\n",
    "```\n",
    "\n",
    "De esta forma, completando lo anterior, se pueden otorgar los permisos para un usuario en SQL."
   ]
  },
  {
   "cell_type": "markdown",
   "metadata": {},
   "source": [
    "### Search Path"
   ]
  },
  {
   "cell_type": "markdown",
   "metadata": {},
   "source": [
    "Cuando uno define un esquema, se puede agregar al search_path del sistema. El search path puede contener varios esquemas, y el que se menciona primero es el que tendra prioridad. La sintaxis es la siguiente:\n",
    "\n",
    "```sql\n",
    "SET search_path TO [Esquema 1], [Esquema 2], ..., public;\n",
    "```\n",
    "\n",
    "Luego de definir todos los esquemas, se debe incluir el esquema 'public'. Una recomendacion es que antes de definir el searchpath se verifique cual es el search actual y que se agregue el esquema en la posicion que se desea a ese searchpath. Para ver cual es el search path se usa: \n",
    "\n",
    "```sql\n",
    "SHOW search_path;\n",
    "```\n",
    "\n",
    "La principal funcion del search path es definir en que orden se buscan las tablas que se piden en las consultas. Si tuvieras un search path que fuera \"SistemaSolar, Public\" y existieran las tablas Sistemasolar.Aterrizaje y public.Aterrizaje, si se hace una consulta a la tabla Aterrizjae sin especificar el esquema se eligira siempre la perteneciente a SistemaSolar.\n"
   ]
  },
  {
   "cell_type": "markdown",
   "metadata": {},
   "source": [
    "## Crear Tablas"
   ]
  },
  {
   "cell_type": "markdown",
   "metadata": {},
   "source": [
    "Ya teniendo el esquema creado, y con los privilegios otorgados a los usuarios, procederemos a ver como se crean las tablas.\n",
    "\n",
    "Para crear una tabla, se tiene que usar la siguiente sintaxis:\n",
    "\n",
    "```sql\n",
    "CREATE TABLE [Esquema].[Nombre de la tabla](\n",
    "    [nombre de la columna] [Datatype de la columna],\n",
    "    ...\n",
    ")\n",
    "```\n",
    "\n",
    "Es decir, luego de especificar el nombre de la tabla y el esquema al que pertenece, se deben listar todos los nombres de las columnas seguidos del tipo de dato que contiene dicha columna. Pueden ver una lista de algunos tipos de datos en el siguiente link: https://www.ibiblio.org/pub/linux/docs/LuCaS/Tutoriales/NOTAS-CURSO-BBDD/notas-curso-BD/node134.html \n",
    "\n",
    "Ya vista la sintaxis, veamos un ejemplo de como crear tablas en nuestro esquema SistemaSolar2:"
   ]
  },
  {
   "cell_type": "code",
   "execution_count": null,
   "metadata": {},
   "outputs": [],
   "source": [
    "%%sql\n",
    "\n",
    "CREATE TABLE SistemaSolar2.Aterrizaje (\n",
    "    nave VARCHAR(255),\n",
    "    planeta VARCHAR(255),\n",
    "    pais VARCHAR(255),\n",
    "    anho SMALLINT\n",
    ");"
   ]
  },
  {
   "cell_type": "markdown",
   "metadata": {},
   "source": [
    "## Borrar tablas"
   ]
  },
  {
   "cell_type": "markdown",
   "metadata": {},
   "source": [
    "Al igual que creamos tablas, podemos eliminarlas. La sintaxis para esto seria:\n",
    "```sql \n",
    "DROP TABLE [esquema].[nombre de la tabla]; \n",
    "```\n",
    "\n",
    "Eliminemos ahora la tabla que acabamos de crear:"
   ]
  },
  {
   "cell_type": "code",
   "execution_count": null,
   "metadata": {},
   "outputs": [],
   "source": [
    "DROP TABLE Sistemasolar2.Aterrizaje"
   ]
  },
  {
   "cell_type": "markdown",
   "metadata": {},
   "source": [
    "## Insertar Tuplas"
   ]
  },
  {
   "cell_type": "markdown",
   "metadata": {},
   "source": [
    "Ahora veamos como agregar filas a una tabla. Para esto necesitamos una tabla en nuestro esquema, asi que cremos la tabla Aterrizaje de nuevo:"
   ]
  },
  {
   "cell_type": "code",
   "execution_count": null,
   "metadata": {},
   "outputs": [],
   "source": [
    "%sql\n",
    "\n",
    "CREATE TABLE SistemaSolar2.Aterrizaje (\n",
    "    nave VARCHAR(255),\n",
    "    planeta VARCHAR(255),\n",
    "    pais VARCHAR(255),\n",
    "    anho SMALLINT\n",
    ");"
   ]
  },
  {
   "cell_type": "markdown",
   "metadata": {},
   "source": [
    "Ya teniendo la tabla, podemos proceder a agregar las tuplas:"
   ]
  },
  {
   "cell_type": "code",
   "execution_count": null,
   "metadata": {},
   "outputs": [],
   "source": [
    "%%sql\n",
    "\n",
    "INSERT INTO sistemasolar2.aterrizaje VALUES ('Messenger','Mercurio','EEUU',2015);\n",
    "INSERT INTO sistemasolar2.aterrizaje VALUES ('Venera 3','Venus','URRS',1966);\n",
    "INSERT INTO sistemasolar2.aterrizaje VALUES ('Pioneer','Venus','EEUU',1978);"
   ]
  },
  {
   "cell_type": "markdown",
   "metadata": {},
   "source": [
    "Es importante destacar que los datos a ingresar deben corresponder con el tipo de datos de la columna. Si fueramos a agregar la siguiente consulta:\n",
    "```sql\n",
    "INSERT INTO sistemasolar2.aterrizaje VALUES ('Mars 2 lander','Marte','URRS','1971');\n",
    "```\n",
    "nos devolveria un error, pues el tipo de datos de la 4ta columna (anho) es SMALLINT y estamos intentando agregar un STRING."
   ]
  },
  {
   "cell_type": "markdown",
   "metadata": {},
   "source": [
    "### Agregar Nulos"
   ]
  },
  {
   "cell_type": "markdown",
   "metadata": {},
   "source": [
    "En capitulos anteriores definimos que un nulo es un valor desconocido, por lo que no se debe agregar nada a esa columna. La forma de hacerlo es la siguiente:"
   ]
  },
  {
   "cell_type": "code",
   "execution_count": null,
   "metadata": {},
   "outputs": [],
   "source": [
    "INSERT INTO sistemasolar2.aterrizaje (pais, nave, planeta) VALUES ('EEUU','Mars 2 Lander','Marte');"
   ]
  },
  {
   "cell_type": "markdown",
   "metadata": {},
   "source": [
    "Como no se especificó ningun valor para la columna 'anho', entonces se asigna un nulo a esa columna. Ademas, al especificar las columnas a las que se le van a agregar los datos, ya no importa el orden de las columnas en la tabla. Veamos como se ve la tabla Aterrizaje luego de haber agregado las filas anteriores:"
   ]
  },
  {
   "cell_type": "code",
   "execution_count": null,
   "metadata": {},
   "outputs": [],
   "source": [
    "%%sql\n",
    "\n",
    "SELECT * \n",
    "FROM sistemasolar2.aterrizaje;"
   ]
  },
  {
   "cell_type": "markdown",
   "metadata": {},
   "source": [
    "### Insertar Tuplas desde otra tabla"
   ]
  },
  {
   "cell_type": "markdown",
   "metadata": {},
   "source": [
    "Otra forma de agregar tuplas a una tabla es importarlas desde otra. Para esto crearemos una tabla en la que pondremos todos los aterrizajes realizados por EEUU. Primero creamos la tabla:"
   ]
  },
  {
   "cell_type": "code",
   "execution_count": null,
   "metadata": {},
   "outputs": [],
   "source": [
    "%sql\n",
    "\n",
    "CREATE TABLE SistemaSolar2.AterrizajeEEUU (\n",
    "    nave VARCHAR(255),\n",
    "    planeta VARCHAR(255),\n",
    "    pais VARCHAR(255),\n",
    "    anho SMALLINT\n",
    ");"
   ]
  },
  {
   "cell_type": "markdown",
   "metadata": {},
   "source": [
    "Ahora, insertaremos todas las tuplas que queremos. Para esto usaremos algo similar a una consulta anidada en el INSERT:"
   ]
  },
  {
   "cell_type": "code",
   "execution_count": null,
   "metadata": {},
   "outputs": [],
   "source": [
    "%%sql\n",
    "\n",
    "INSERT INTO AterrizajeEEUU ( SELECT * FROM Aterrizaje WHERE pais='EEUU');"
   ]
  },
  {
   "cell_type": "markdown",
   "metadata": {},
   "source": [
    "Y ahora veamos como quedo dicha tabla:"
   ]
  },
  {
   "cell_type": "code",
   "execution_count": null,
   "metadata": {},
   "outputs": [],
   "source": [
    "%%sql\n",
    "\n",
    "SELECT *\n",
    "FROM AterrizajeEEUU;"
   ]
  },
  {
   "cell_type": "markdown",
   "metadata": {},
   "source": [
    "## Editar Tuplas"
   ]
  },
  {
   "cell_type": "markdown",
   "metadata": {},
   "source": [
    "Ya teniendo una tabla con contenido, de ser necesario podemos editar una tupla. La sintaxis seria la siguiente:\n",
    "\n",
    "```sql\n",
    "UPDATE [esquema].[tabla]\n",
    "SET [columna1]=[nuevo valor], ...\n",
    "WHERE [condicion];\n",
    "```\n",
    "\n",
    "Como podran notar, se pueden cambiar el valor de varias columnas a la vez. Sin embargo, si solo se quiere cambiar de una tambien es posible. La manera de definir esto es usando la condicion, si queremos una sola se usa la llave primaria, y de ser varias simplemente se elige que atributos tienen en comun en la condicion.\n",
    "\n",
    "Por ejemplo, queremos cambiar en la tabla Aterrizaje el pais y el año del Mars 2 Lander, entonces hariamos lo siguiente:"
   ]
  },
  {
   "cell_type": "code",
   "execution_count": null,
   "metadata": {},
   "outputs": [],
   "source": [
    "%%sql\n",
    "\n",
    "UPDATE sistemasolar2.Aterrizaje\n",
    "SET anho=1971, pais='URSS'\n",
    "WHERE nave='Mars 2 lander';"
   ]
  },
  {
   "cell_type": "markdown",
   "metadata": {},
   "source": [
    "Con esto se actualizaria la tupla como podemos ver a continuacion:"
   ]
  },
  {
   "cell_type": "code",
   "execution_count": null,
   "metadata": {},
   "outputs": [],
   "source": [
    "%%sql\n",
    "\n",
    "SELECT * \n",
    "FROM sistemasolar2.Aterrizaje;"
   ]
  },
  {
   "cell_type": "markdown",
   "metadata": {},
   "source": [
    "Y es importante mencionar que, aunque la tabla AterrizajeEEUU se creo con los datos de la tabla Aterrizaje, esta es una tabla independiente por lo que no se vera alterada aunque se modifiquen en Aterrizaje las columnas que tiene en común."
   ]
  },
  {
   "cell_type": "code",
   "execution_count": null,
   "metadata": {},
   "outputs": [],
   "source": [
    "%%sql\n",
    "\n",
    "SELECT *\n",
    "FROM sistemasolar2.AterrizajeEEUU;"
   ]
  },
  {
   "cell_type": "markdown",
   "metadata": {},
   "source": [
    "## Actualizar tuplas de otra tabla"
   ]
  },
  {
   "cell_type": "markdown",
   "metadata": {},
   "source": [
    "Si existen cambios en una tabla, podemos hacer que estos cambios se actualicen, de forma que la informacion de las tablas del esquema sea consistente entre si. Para esto usaremos la siguiente sintaxis:\n",
    "\n",
    "```sql\n",
    "UPDATE [Esquema].[Tabla por actualizar] [Alias1]\n",
    "SET [Alias1].[Valor por actualizar] = [Alias2].[Valor actualizado]\n",
    "FROM [Esquema].[Tabla actualizada]\n",
    "WHERE [condicion/es];\n",
    "```\n",
    "\n",
    "Digamos que queremos asegurarnos que los aterrizajes hechos por EEUU estan correctos en la tabla Aterrizaje. Para esto actualizaremos esta columna desde los valores de AterrizajeEEUU:"
   ]
  },
  {
   "cell_type": "code",
   "execution_count": null,
   "metadata": {},
   "outputs": [],
   "source": [
    "%%sql\n",
    "\n",
    "UPDATE sistemasolar2.Aterrizaje A\n",
    "SET A.pais=AE.pais\n",
    "FROM AterrizajeEEUU AE\n",
    "WHERE A.nave=AE.nave AND A.planeta=AE.planeta;"
   ]
  },
  {
   "cell_type": "markdown",
   "metadata": {},
   "source": [
    "De esta forma el valor del pais en la fila correspondiente al Mars 2 lander cambia de URSS a EEUU:"
   ]
  },
  {
   "cell_type": "code",
   "execution_count": null,
   "metadata": {},
   "outputs": [],
   "source": [
    "%%sql\n",
    "\n",
    "SELECT *\n",
    "FROM sistemasolar2.Aterrizaje;"
   ]
  },
  {
   "cell_type": "markdown",
   "metadata": {},
   "source": [
    "## Borrar Tuplas\n"
   ]
  },
  {
   "cell_type": "markdown",
   "metadata": {},
   "source": [
    "Si asi lo queremos, podemos borrar tuplas basandonos en condiciones de la siguiente manera:\n",
    "```sql\n",
    "DELETE FROM [esquema].[tabla] WHERE [Condicion]\n",
    "```\n",
    "Ejemplo:"
   ]
  },
  {
   "cell_type": "code",
   "execution_count": null,
   "metadata": {},
   "outputs": [],
   "source": [
    "%%sql\n",
    "DELETE FROM sistemasolar2.AterrizajeEEUU WHERE anho IS NULL;"
   ]
  },
  {
   "cell_type": "markdown",
   "metadata": {},
   "source": [
    "## Borrar Columnas"
   ]
  },
  {
   "cell_type": "markdown",
   "metadata": {},
   "source": [
    "Tambien podemos borrar columnas de una tabla. Para esto simplemente se necesita el nombre de la tabla y la columna que se quiere eliminar:\n",
    "\n",
    "```sql\n",
    "ALTER TABLE [esquema].[tabla] DROP COLUMN [Nombre de la columna];\n",
    "```\n",
    "\n",
    "Como ejemplo eliminaremos la columna pais de la tabla AterrizajeEEUU:"
   ]
  },
  {
   "cell_type": "code",
   "execution_count": null,
   "metadata": {},
   "outputs": [],
   "source": [
    "%%sql\n",
    "ALTER TABLE sistemasolar2.AterrizajeEEUU DROP COLUMN pais;"
   ]
  },
  {
   "cell_type": "markdown",
   "metadata": {},
   "source": [
    "## Crear Columnas"
   ]
  },
  {
   "cell_type": "markdown",
   "metadata": {},
   "source": [
    "Similarmente, se puede agregar una columna especificando la tabla a la que se quiere agregar, el nombre de la nueva columna y el tipo de dato:\n",
    "\n",
    "```sql\n",
    "ALTER TABLE [esquema].[Tabla] ADD COLUMN [nombre de la columna] [Tipo de datos];\n",
    "```\n",
    "\n",
    "Agreguemos una columna que tenga la fecha del despegue en AterrizajeEEUU:"
   ]
  },
  {
   "cell_type": "code",
   "execution_count": null,
   "metadata": {},
   "outputs": [],
   "source": [
    "%%sql\n",
    "\n",
    "ALTER TABLE sistemasolar2.AterrizajeEEUU ADD COLUMN despegue DATE;"
   ]
  },
  {
   "cell_type": "markdown",
   "metadata": {},
   "source": [
    "## Modificar Columnas"
   ]
  },
  {
   "cell_type": "markdown",
   "metadata": {},
   "source": [
    "En una columna, podemos modificar el tipo de datos que contiene. A continuacion la sintaxis:\n",
    "```sql\n",
    "ALTER TABLE [esquema].[tabla] ALTER COLUMN [Nombre de la columna] [Nuevo tipo de datos];\n",
    "```\n",
    "\n",
    "Ahora modificaremos el tipo de datos en la columna despegue de la tabla AterrizajeEEUU:"
   ]
  },
  {
   "cell_type": "code",
   "execution_count": null,
   "metadata": {},
   "outputs": [],
   "source": [
    "ALTER TABLE sistemasolar2.AterrizajeEEUU ALTER COLUMN despegue VARCHAR(255);"
   ]
  },
  {
   "cell_type": "markdown",
   "metadata": {},
   "source": [
    "## Cargar Datos"
   ]
  },
  {
   "cell_type": "markdown",
   "metadata": {},
   "source": [
    "Para terminar con la seccion de creacion y actualizacion de tablas, vamos a ver como cargar los datos desde un archivo a una tabla ya preexistente. Para esto se usa la siguiente sintaxis:\n",
    "\n",
    "```sql\n",
    "COPY [Nombre de la tabla] FROM ['Direccion del archivo'] DELIMITER [Separador de las columnas];\n",
    "```\n",
    "\n",
    "Por ejemplo, digamos que tenemos los datos en un .csv (coma separated values), lo que significa que cada linea del archivo es una fila y cada columna esta separada por comas. Entonces el comando quedaria de la siguiente manera:\n",
    "\n",
    "```sql\n",
    "COPY Aterrizaje FROM '/home/ahogan/documents/aterrizaje.csv' DELIMITER ',';\n",
    "```\n",
    "\n",
    "Esta forma de agregar datos es especifica de Postgres, y no sobreescribe las filas ya existentes, sino que concatena las nuevas. Es decir, todas las tuplas nuevas que se agreguen iran despues de las que ya existian en la tabla."
   ]
  },
  {
   "cell_type": "markdown",
   "metadata": {},
   "source": [
    "# Restricciones"
   ]
  },
  {
   "cell_type": "markdown",
   "metadata": {},
   "source": [
    "Al comienzo del curso se vio el concepto de llaves primarias y foraneas. Estas son algunas de las restricciones que se deben definir al momento de crear una tabla. Una restriccion se puede definir como una restriccion formal que se le impone a un esquema y que todas sus instancias deben satisfacer.\n",
    "\n",
    "Para esta parte del laboratorio vamos a usar un esquema relacional distinto al que estabamos usando. Ahora estaremos trabajando con el esquema relacional 'Banco'. Si desean leer mas pueden revisar el READ ME.\n",
    "\n",
    "**Me gustaria poner una foto aqui con todas las tablas para que se pueda ver el esquema mas facilmente**"
   ]
  },
  {
   "cell_type": "markdown",
   "metadata": {},
   "source": [
    "## Restricciones Basicas"
   ]
  },
  {
   "cell_type": "markdown",
   "metadata": {},
   "source": [
    "Partamos con las restricciones mas basicas que puede tener un esquema:"
   ]
  },
  {
   "cell_type": "markdown",
   "metadata": {},
   "source": [
    "### Llaves, Nulos, Dominio"
   ]
  },
  {
   "cell_type": "markdown",
   "metadata": {},
   "source": [
    "- Dominio: La restriccion de dominio ya la habiamos visto antes, pues con ella nos referimos a definir el tipo de dato (BIGINT, VARCHAR, etc.) luego de declarar el nombre de la columna.\n",
    "\n",
    "- Llaves: Toda tabla debe tener al menos una llave primaria. La forma de agregar una llave primaria es escribir el nombre de la columna, el tipo de datos (como lo vimos en la parte de crear una tabla) y luego colocar 'PRIMARY KEY' antes de la siguiente columna.\n",
    "\n",
    "- Nulos: A veces necesitamos definir que un valor no pueda ser nulo, o desconocido. Llevandolo a nuestro ejemplo, un banco no puede no saber cual es el saldo de una cuenta o el rut de un cliente. En estos casos se debe agregar 'NOT NULL' luego del nombre y tipo de datos al crear la tabla. \n",
    "\n",
    "Por defecto, las llaves nunca pueden ser nulos, por lo que si se coloca 'PRIMARY KEY' no se debe colocar 'NOT NULL'\n",
    "\n",
    "Ahora veamos como se aplicaria esto a la creacion de la tabla Cliente en el esquema banco. El comando quedaria de la siguiente forma:\n",
    "\n",
    "```sql\n",
    "CREATE TABLE banco.cliente (\n",
    "    rut VARCHAR(12) NOT NULL PRIMARY KEY,\n",
    "    nombre VARCHAR(255) NOT NULL,\n",
    "    fono BIGINT NOT NULL,\n",
    "    direccion VARCHAR(255) NOT NULL\n",
    ")\n",
    "```"
   ]
  },
  {
   "cell_type": "markdown",
   "metadata": {},
   "source": [
    "### Valores por defecto"
   ]
  },
  {
   "cell_type": "markdown",
   "metadata": {},
   "source": [
    "Al crear una tabla tambien tenemos la opcion de definir un valor por defecto, de forma que si no se especifica este valor al momento de crear la tupla no se guarde como nulo sino como otra cosa. La forma de hacerlo seria usando el termino DEFAULT y luego colocar el valor por defecto.\n",
    "\n",
    "Es importante destacar que DEFAULT, a diferencia de PRIMARY KEY, no funciona como un NOT NULL implícito. Es decir, aunque no se puede crear una tupla con un valor nulo, despues de creado si se podria cambiar este valor a un nulo. Por lo tanto, se debe especificar si la columna no puede ser nulo independiente de si se define un valor por defecto.\n",
    "\n",
    "Ahora veamos como hariamos la tabla Cuenta. Ademas de las restricciones de llaves y nulos, el saldo_clp y el saldo_usd deben partir en cero ya que seria como que no tienen dinero en la cuenta. Para esto el comando para crear la cuenta quedaria de la siguiente manera:\n",
    "\n",
    "```sql\n",
    "CREATE TABLE Banco.Cuenta (\n",
    "    numero BIGINT PRIMARY KEY,\n",
    "    rut VARCHAR(12) NOT NULL,\n",
    "    tipo VARCHAR(12) NOT NULL,\n",
    "    saldo_clp BIGINT NOT NULL DEFAULT 0,\n",
    "    saldo_usd FLOAT NOT NULL DEFAULT 0\n",
    ")\n",
    "```"
   ]
  },
  {
   "cell_type": "markdown",
   "metadata": {},
   "source": [
    "## Restricciones de Unicidad"
   ]
  },
  {
   "cell_type": "markdown",
   "metadata": {},
   "source": [
    "A veces no solo la llave primaria es la unica que no debe repetirse. Por ejemplo, en nuestro banco no podrian existir dos tuplas con el mismo rut y tipo de cuenta, ya que cada cliente solo puede tener una cuenta de cada tipo pues tendria sentido que un cliente tuviese dos cuentas corrientes.\n",
    "\n",
    "Para esto se usa la restriccion de unicidad. La unicidad se usa para todas las llaves candidatas. Y pueden exstir varias llaves candidatas, pero solo una llave primaria. \n",
    "\n",
    "Para declararla se deben definir todas las columnas con sis restricciones respectivas, y al final agregar 'UNIQUE ([...)' especificando entre parentesis cuales columnas deben ser unicas, separandolas por comas. \n",
    "\n",
    "Si agregamos esta restriccion de Unicidad a Cuenta, ahora quedaria de la siguiente manera:\n",
    "\n",
    "```sql\n",
    "CREATE TABLE Banco.Cuenta (\n",
    "    numero BIGINT PRIMARY KEY,\n",
    "    rut VARCHAR(12) NOT NULL,\n",
    "    tipo VARCHAR(12) NOT NULL,\n",
    "    saldo_clp BIGINT NOT NULL DEFAULT 0,\n",
    "    saldo_usd FLOAT NOT NULL DEFAULT 0,\n",
    "    UNIQUE (rut,tipo)\n",
    ")\n",
    "```\n",
    "\n",
    "Nota: PRIMARY KEY implica unicidad, por lo que no es necesario especificar unicidad en cuanto a la llave primaria se refiere.\n"
   ]
  },
  {
   "cell_type": "markdown",
   "metadata": {},
   "source": [
    "## Restricciones de llaves Foraneas"
   ]
  },
  {
   "cell_type": "markdown",
   "metadata": {},
   "source": [
    "Ademas de las llaves primarias, tenemos tambien las llaves foraneas. Para declarar una llave foranea primero se escribe el nombre de la columna y el tipo de datos, seguido de 'REFERENCES TO' y por ultimo la columna a la que se referencia. Al hacer esto no se podran agregar valores a esta columna que no esten en la columna a la que se hace referencia.\n",
    "\n",
    "Ahora agreguemos una referencia a la tabla Cuenta. Si la tabla Cliente contiene la lista de todos los clientes, entonces no puede existir una cuenta con un rut que no este en la lista de clientes. Por lo tanto agregamos esta referencia:\n",
    "\n",
    "\n",
    "```sql\n",
    "CREATE TABLE Banco.Cuenta (\n",
    "    numero BIGINT PRIMARY KEY,\n",
    "    rut VARCHAR(12) REFERENCES TO cliente(rut),\n",
    "    tipo VARCHAR(12) NOT NULL,\n",
    "    saldo_clp BIGINT NOT NULL DEFAULT 0,\n",
    "    saldo_usd FLOAT NOT NULL DEFAULT 0,\n",
    "    UNIQUE (rut,tipo)\n",
    ")\n",
    "```\n",
    "\n",
    "Si comparamos esta consulta con la anterior, podemos ver que quitamos el NOT NULL. Esto debido a que en una columna que referencia a otra no pueden haber valores desconocidos, por lo tanto REFERENCES TO incluye un NOT NULL implicito.\n",
    "\n",
    "\n",
    "\n",
    "Si existen llaves foraneas, no se podra hacer DROP TABLE de las tablas a las que se referencia. Es decir, en este caso ya no se podria ejecutar la siguiente linea:\n",
    "\n",
    "```sql\n",
    "DROP TABLE Banco.Cliente;\n",
    "```\n",
    "\n",
    "Para poder eliminar esta tabla se debe usar CASCADE al final del comando, y de esta forma se eliminaria la tabla Cliente a la vez que se elimina la restriccion de llave foranea de la tabla Cuenta. Se veria de la siguiente manera:\n",
    "\n",
    "```sql\n",
    "DROP TABLE Banco.Cliente CASCADE;\n",
    "```\n"
   ]
  },
  {
   "cell_type": "markdown",
   "metadata": {},
   "source": [
    "## Restricciones de llaves compuestas"
   ]
  },
  {
   "cell_type": "markdown",
   "metadata": {},
   "source": [
    "Hasta ahora hemos visto como hacer referencias a una llave que sea de un solo atributo. Sin embargo pueden existir llaves compuestas por mas de una columna, y para esto se debe usar una sintaxis distinta. \n",
    "\n",
    "Para referenciar una llave compuesta se debe especificar al final luego de definir todos los nombres, tipos de datos y restriccion de nulos de las columnas. Si es una llave primaria se coloca PRIMARY KEY seguido de las columnas que componen la llave entre parentesis y separadas por coma. Veamos un ejemplo con la tabla Divisa:\n",
    "\n",
    "```sql\n",
    "CREATE TABLE banco.divisa (\n",
    "    d1 VARCHAR(3),\n",
    "    d2 VARCHAR(3),\n",
    "    valor DOUBLE PRECISION,\n",
    "    PRIMARY KEY (d1,d2)\n",
    ")\n",
    "```\n",
    "\n",
    "Si lo que queremos es definir una llave foranea, se debe escribir FOREIGN KEY seguido de la tupla de columnas igual que en la llave primaria. Luego se coloca REFERENCES y se especifica la tabla y las columnas a las que se referencia respectivamente. Veamos como seria en la tabla Cambio:\n",
    "\n",
    "```sql\n",
    "CREATE TABLE banco.cambio (\n",
    "    id VARCHAR(12),\n",
    "    venta VARCHAR(3),\n",
    "    compra VARCHAR(3),\n",
    "    monto DOUBLE PRECISION,\n",
    "    FOREIGN KEY (venta,compra) REFERENCES Divisa (d1,d2),\n",
    "    PRIMARY KEY (id, venta, compra)\n",
    ")\n",
    "```\n"
   ]
  },
  {
   "cell_type": "markdown",
   "metadata": {},
   "source": [
    "## Nombrar (y borrar) restricciones"
   ]
  },
  {
   "cell_type": "markdown",
   "metadata": {},
   "source": [
    "Lo ultimo que veremos de restricciones sera como agregarlas luego de que ya se han creado las tablas. Para esto es necesario introducir el concepto de nombrar las restricciones.\n",
    "\n",
    "Al crear una restriccion, se le puede asignar un nombre o un alias. Esto es posible solo si se usa una sintaxis como la de las llaves compuestas o la de la unicidad. Es decir, usando PRIMARY KEY al final y no declarandolo en la misma linea de la columna. Para agregar un alias se debe incluir 'CONTRAINT [Alias]' antes de declarar el tipo de restriccion que se va a usar. Veamoslo en la tabla Cuenta, donde le daremos un nombre a la llave primaria y a la restriccion de unicidad:\n",
    "\n",
    "```sql\n",
    "CREATE TABLE Banco.Cuenta (\n",
    "    numero BIGINT,\n",
    "    rut VARCHAR(12) REFERENCES cliente(rut),\n",
    "    tipo VARCHAR(12) NOT NULL,\n",
    "    saldo_clp BIGINT NOT NULL DEFAULT 0,\n",
    "    saldo_usd FLOAT NOT NULL DEFAULT 0,\n",
    "    CONSTRAINT Cuenta_uni_rt UNIQUE (rut,tipo),\n",
    "    CONSTRAINT Cuenta_pk PRIMARY KEY (numero)\n",
    ")\n",
    "```\n",
    "\n",
    "\n",
    "De esta forma, cuando queramos referirnos a la llave primaria podemos usar el alias 'Cuenta_pk'. Esto es util para lo que veremos a continuacion.\n",
    "\n",
    "Si por algun motivo quisieramos eliminar las restricciones de llave primaria o de unicidad de la tabla cuenta, podremos hacerlo con la siguiente sintaxis:\n",
    "\n",
    "```sql\n",
    "ALTER TABLE [esquema].[tabla] DROP CONSTRAINT [Alias de la restriccion];\n",
    "```\n",
    "\n",
    "Por ejemplo si queremos quitar la restriccion de Unicidad hariamos lo siguiente:\n",
    "\n",
    "```sql\n",
    "ALTER TABLE Banco.cuenta DROP CONSTRAINT Cuenta_uni_rt;\n",
    "```\n",
    "\n",
    "De la misma manera, podemos agregar restricciones a una tabla que ya existe. Para esto se usa la siguiente sintaxis:\n",
    "\n",
    "```sql\n",
    "ALTER TABLE [esquema].[tabla] ADD CONSTRAINT [Alias de la restriccion] [Definicion de la restriccion];\n",
    "```\n",
    "\n",
    "Si ahora quisieramos agregar de nuevo la restriccion de Unicidad que eliminamos antes, pero con otro nombre, podriamos hacer lo siguiente:\n",
    "\n",
    "```sql\n",
    "ALTER TABLE Banco.cuenta ADD CONSTRAINT Unicidad_rut_tipo UNIQUE (rut,tipo);\n",
    "```\n",
    "\n",
    "Y de esta forma se habria eliminado la restriccion de unicidad, y agregado la misma restriccion de nuevo pero con otro nombre."
   ]
  },
  {
   "cell_type": "markdown",
   "metadata": {},
   "source": [
    "# Referencias"
   ]
  },
  {
   "cell_type": "markdown",
   "metadata": {},
   "source": [
    "- https://datademia.es/blog/que-es-sql\n",
    "\n",
    "- Capítulo 5 Database Management Systems, Ramakrishnan / Gehrke (Third Edition)\n",
    "\n",
    "- https://www.w3resource.com/sql/joins/sql-joins.php\n",
    "\n",
    "- https://www.postgresql.org/docs/13/ddl-priv.html\n",
    "\n",
    "- https://www.ibiblio.org/pub/linux/docs/LuCaS/Tutoriales/NOTAS-CURSO-BBDD/notas-curso-BD/node134.html"
   ]
  }
 ],
 "metadata": {
  "interpreter": {
   "hash": "bc4d4a705ad4100c3c023eed3d05b8f055186dc41dac1fc29b492dc215aa1e0f"
  },
  "kernelspec": {
   "display_name": "Python 3.9.6 64-bit ('sql': conda)",
   "name": "python3"
  },
  "language_info": {
   "codemirror_mode": {
    "name": "ipython",
    "version": 3
   },
   "file_extension": ".py",
   "mimetype": "text/x-python",
   "name": "python",
   "nbconvert_exporter": "python",
   "pygments_lexer": "ipython3",
   "version": "3.9.6"
  },
  "orig_nbformat": 4
 },
 "nbformat": 4,
 "nbformat_minor": 2
}
